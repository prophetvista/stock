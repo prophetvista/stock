{
 "cells": [
  {
   "cell_type": "code",
   "execution_count": 33,
   "metadata": {
    "scrolled": true
   },
   "outputs": [],
   "source": [
    "#2019.10.18 准备写一个大盘分析程序，将相关数据显示在网页上，然后后台定时运行，分析每天结果，我想看时打开网页就行。\n",
    "#2019.10.24 实现往前算指定天数ndays，将index_dailybasic中的总市值与每日指数中成交量、成交额合并一个DF显示\n",
    "#2019.10.26 完成上证与深证官网数据采集，将四个DATAFRAME写到同一个HTML中，基本完成当初想法\n",
    "#2019.10.31 修改上证官网的数据采集方法与网址"
   ]
  },
  {
   "cell_type": "code",
   "execution_count": 2,
   "metadata": {},
   "outputs": [],
   "source": [
    "from selenium import webdriver\n",
    "from selenium.webdriver.chrome.options import Options\n",
    "import pandas as pd\n",
    "import time\n",
    "import tushare as ts\n",
    "from datetime import date, datetime, timedelta\n",
    "pro = ts.pro_api() \n",
    "#初始化tushare"
   ]
  },
  {
   "cell_type": "code",
   "execution_count": 3,
   "metadata": {},
   "outputs": [
    {
     "name": "stdout",
     "output_type": "stream",
     "text": [
      "    挂牌数   市价总值(亿元) 流通市值(亿元) 成交金额(亿元) 成交量(亿股) 成交笔数(万笔) 平均市盈率(倍) 换手率(%)\n",
      "0  1578  332673.18   286282  1821.03  161.75  1227.22    13.93  0.465\n"
     ]
    }
   ],
   "source": [
    "#2019.10.31 采集上证官网关于成交量、股票挂牌数等信息\n",
    "from selenium import webdriver\n",
    "from selenium.webdriver.chrome.options import Options\n",
    "import time\n",
    "opt = Options()\n",
    "opt.add_argument('--headless')\n",
    "# 创建chrome无界面对象\n",
    "driver = webdriver.Chrome(options=opt)\n",
    "#设置无界面\n",
    "driver.get('http://www.sse.com.cn/market/stockdata/overview/day/')\n",
    "time.sleep(3)\n",
    "a=driver.find_elements_by_class_name(\"search_\")\n",
    "#定位到数据的search table标签\n",
    "b=a[0].text.split()[6:]\n",
    "#去掉表格第一列\n",
    "c=b[::6]\n",
    "#取表格第1列标题\n",
    "d=b[1::6]\n",
    "#取表格第2列数值 \n",
    "dname=c\n",
    "#取出表名\n",
    "dvalue=d\n",
    "#取出表名对应的表值\n",
    "df1 = pd.DataFrame([dvalue], columns=dname) \n",
    "print(df1)"
   ]
  },
  {
   "cell_type": "code",
   "execution_count": 36,
   "metadata": {},
   "outputs": [
    {
     "name": "stdout",
     "output_type": "stream",
     "text": [
      "  上市公司/家 上市股票/只    总股本/亿股   流通股本/亿股     总市值/亿元    流通市值/亿元 平均市盈率/倍\n",
      "0   1528   1571  39091.32  34745.16  334665.38  287984.09   14.06\n"
     ]
    }
   ],
   "source": [
    "#本段采集深证官网首页大盘信息，id=a,变量名前可以加a防重复。\n",
    "driver.get('http://www.szse.cn/')\n",
    "#访问深证官网\n",
    "time.sleep(3)\n",
    "#停止等待，防止取出空数据\n",
    "a_a=driver.find_elements_by_class_name('tab-pane')\n",
    "#大盘情况放在class为tab-pane名字中，find_elements找出所有的tab_pane\n",
    "a_c=[]\n",
    "for a_b in a_a:\n",
    "    if a_b.text!='':\n",
    "        #一共能找到四个class，其中三个为空，要过滤掉\n",
    "        a_c=a_b.text.split('\\n') \n",
    "        #以\\n分割字符串\n",
    "table_name=a_c[::2]\n",
    "#从0取值，步长2，取出列名\n",
    "table_name.append('数据采集时间')\n",
    "#增加列名：数据采集时间\n",
    "table_value=a_c[1::2]\n",
    "#从1取值，步长2，取出数值\n",
    "a_d=driver.find_elements_by_class_name('tip')\n",
    "#时间放在tip中，首页中一共有两个tip，取最后一个\n",
    "a_f=[]\n",
    "for a_e in a_d:\n",
    "    a_f.append(a_e.text)\n",
    "table_value.append(a_f[-1])\n",
    "#对应增加采集到的日期\n",
    "df2 = pd.DataFrame([table_value], columns=table_name) \n",
    "#df1深证官网的大盘数据\n",
    "\n",
    "driver.quit()\n",
    "print(df1)\n"
   ]
  },
  {
   "cell_type": "code",
   "execution_count": 37,
   "metadata": {
    "scrolled": false
   },
   "outputs": [
    {
     "name": "stdout",
     "output_type": "stream",
     "text": [
      "     ts_code trade_date      close   change  pct_chg          vol  \\\n",
      "0  000001.SH   20191025  2954.9327  14.0112   0.4764  136860706.0   \n",
      "1  000001.SH   20191024  2940.9215  -0.6973  -0.0237  126540290.0   \n",
      "2  000001.SH   20191023  2941.6188 -12.7611  -0.4319  123812881.0   \n",
      "3  000001.SH   20191022  2954.3799  14.7620   0.5022  117482048.0   \n",
      "4  000001.SH   20191021  2939.6179   1.4766   0.0503  132475107.0   \n",
      "5  000001.SH   20191018  2938.1413 -39.1929  -1.3164  149990678.0   \n",
      "6  000001.SH   20191017  2977.3342  -1.3782  -0.0463  122527614.0   \n",
      "7  000001.SH   20191016  2978.7124 -12.3335  -0.4123  149885496.0   \n",
      "\n",
      "        amount      total_mv  \n",
      "0  160224090.6  3.879876e+13  \n",
      "1  141667233.0  3.864492e+13  \n",
      "2  139653650.5  3.862913e+13  \n",
      "3  130381741.2  3.877605e+13  \n",
      "4  145685881.2  3.860444e+13  \n",
      "5  162018272.3  3.852931e+13  \n",
      "6  136051252.1  3.902802e+13  \n",
      "7  166791549.4  3.904096e+13  \n"
     ]
    }
   ],
   "source": [
    "#2019.10.24 本段程序显示上证大盘情况。实现往前算指定天数ndays，将index_dailybasic中的总市值与每日指数中成交量、成交额合并一个DF显示\n",
    "ndays=10\n",
    "#ndays将来计划是由网页提交给数据库，可以由用户更改。\n",
    "delta = timedelta(days=8)  \n",
    "#timedelta可以实现日期时间直接相加，例子如下：\n",
    "#now = datetime.now()\n",
    "#day = date.today()\n",
    "#n_days_after = now + delta  #当前日期推迟n天之后的时间\n",
    "#n_days_forward  = now - delta  #当前日期向前推n天的时间\n",
    "day=date.today()\n",
    "#取今天的时间\n",
    "end_date=(day-timedelta(days=1)).strftime('%Y%m%d')\n",
    "#截止时间为前一天,#默认输出是2019-10-24的格式，用strftime换算成20191024\n",
    "start_date=(day-timedelta(days=ndays)).strftime('%Y%m%d')\n",
    "#开始时间根据ndays的不同，可以变化\n",
    "dfa = pro.index_dailybasic(start_date=start_date,end_date=end_date,ts_code='000001.SH',fields='ts_code,trade_date,total_mv,turnover_rate')\n",
    "#index_dailybasic提供大盘指数每日行情，目前主要是目前只提供上证综指，深证成指，上证50\n",
    "#中证500，中小板指，创业板指的每日指标数据\n",
    "df3 = pro.index_daily(ts_code='000001.SH',start_date=start_date,end_date=end_date,fields='ts_code,trade_date,close,change,pct_chg,vol,amount')\n",
    "#指数每日行情，用主要输出参数close,open,high,low,pre_close\n",
    "#change涨跌点相对昨天收价，pct_chg涨跌幅相对昨天收盘价\n",
    "#vol成交量手，amount成交额千元\n",
    "df3['total_mv']=dfa.total_mv\n",
    "#将df1的total_mv合并df2\n",
    "#dataframe增加一列用法，df['new']=[1,2,3,4] \n",
    "#dataframe增加一行用法，加loc,df.loc['new']=[1,2,3,4]\n",
    "#--------------------我是分割线------------------------------------------------------------\n",
    "#2019.10.19\n",
    "#原本想将运行结果保存到数据库，然后用PHP读出来显示到网页上，今天突然想到PYTHON能不能直接保存结果为HTML？百度一下，居然发现DATAFRAME可以\n",
    "#直接存为HTML文件，这下省事了。\n",
    "\n",
    "print(df3)"
   ]
  },
  {
   "cell_type": "code",
   "execution_count": 38,
   "metadata": {
    "scrolled": true
   },
   "outputs": [
    {
     "name": "stdout",
     "output_type": "stream",
     "text": [
      "     ts_code trade_date      close    change  pct_chg          vol  \\\n",
      "0  399001.SZ   20191025  9660.4403  104.6790   1.0955  224961819.0   \n",
      "1  399001.SZ   20191024  9555.7613  -11.9875  -0.1253  207222324.0   \n",
      "2  399001.SZ   20191023  9567.7488  -74.3400  -0.7710  215975821.0   \n",
      "3  399001.SZ   20191022  9642.0888   88.5159   0.9265  207552391.0   \n",
      "4  399001.SZ   20191021  9553.5729   20.0677   0.2105  209913943.0   \n",
      "5  399001.SZ   20191018  9533.5052 -111.8835  -1.1600  238042710.0   \n",
      "6  399001.SZ   20191017  9645.3887    3.3292   0.0345  206596230.0   \n",
      "7  399001.SZ   20191016  9642.0595  -29.6693  -0.3068  233148157.0   \n",
      "\n",
      "        amount      total_mv  \n",
      "0  245550683.1  1.502189e+13  \n",
      "1  218608084.4  1.484785e+13  \n",
      "2  228668699.0  1.486832e+13  \n",
      "3  226621129.8  1.499340e+13  \n",
      "4  224397554.7  1.486568e+13  \n",
      "5  253797032.8  1.483966e+13  \n",
      "6  225158089.2  1.501314e+13  \n",
      "7  256657323.7  1.499648e+13  \n"
     ]
    }
   ],
   "source": [
    "#2019.10.18 准备写一个大盘分析程序，将相关数据显示在网页上，然后后台定时运行，分析每天结果，我想看时打开网页就行。\n",
    "#2019.10.24 本段程序显示深证大盘情况\n",
    "\n",
    "dfa1 = pro.index_dailybasic(start_date=start_date,end_date=end_date,ts_code='399001.SZ',fields='ts_code,trade_date,total_mv,turnover_rate')\n",
    "#index_dailybasic提供大盘指数每日行情，目前主要是目前只提供上证综指，深证成指，上证50\n",
    "#中证500，中小板指，创业板指的每日指标数据\n",
    "df4 = pro.index_daily(ts_code='399001.SZ',start_date=start_date,end_date=end_date,fields='ts_code,trade_date,close,change,pct_chg,vol,amount')\n",
    "#指数每日行情，用主要输出参数close,open,high,low,pre_close\n",
    "#change涨跌点相对昨天收价，pct_chg涨跌幅相对昨天收盘价\n",
    "#vol成交量手，amount成交额千元\n",
    "df4['total_mv']=dfa1.total_mv\n",
    "#将df1的total_mv合并df2\n",
    "#dataframe增加一列用法，df['new']=[1,2,3,4] \n",
    "#dataframe增加一行用法，加loc,df.loc['new']=[1,2,3,4]\n",
    "#--------------------我是分割线------------------------------------------------------------\n",
    "#2019.10.19\n",
    "#原本想将运行结果保存到数据库，然后用PHP读出来显示到网页上，今天突然想到PYTHON能不能直接保存结果为HTML？百度一下，居然发现DATAFRAME可以\n",
    "#直接存为HTML文件，这下省事了。\n",
    "print(df4)\n",
    "\n"
   ]
  },
  {
   "cell_type": "code",
   "execution_count": 39,
   "metadata": {},
   "outputs": [],
   "source": [
    "#多个DATAFRAME写入同一个html的例子\n",
    "import os\n",
    "HEADER ='''<html>\n",
    "            <head>\n",
    "                <meta http-equiv=\"Content-Type\" content=\"text/html; charset=utf-8\">\n",
    "            </head>\n",
    "            <body>\n",
    "            '''\n",
    "FOOTER = '''</body>\n",
    "            </html>'''\n",
    "\n",
    " \n",
    "with open(os.path.join(os.getcwd(), 'filesnew.html'), 'w',encoding='utf8') as f:\n",
    "    f.write(HEADER)\n",
    "    f.write('<h1><strong>' + '上证大盘综合情况' +'</strong></h1>')\n",
    "    f.write(df1.to_html(escape=False,index=False,sparsify=True,border=1,index_names=True,header=True))\n",
    "    f.write('<h1><strong>' + '深证大盘综合情况' +'</strong></h1>')\n",
    "    f.write(df2.to_html(escape=False,index=False,sparsify=True,border=1,index_names=True,header=True))\n",
    "    f.write('<h1><strong>' + '上证历史大盘综合情况' +'</strong></h1>')\n",
    "    f.write(df3.to_html(escape=False,index=False,sparsify=True,border=1,index_names=True,header=True))\n",
    "    f.write('<h1><strong>' + '深证历史大盘综合情况' +'</strong></h1>')\n",
    "    f.write(df4.to_html(escape=False,index=False,sparsify=True,border=1,index_names=True,header=True))\n",
    "    f.write(FOOTER)\n",
    "\n"
   ]
  },
  {
   "cell_type": "code",
   "execution_count": null,
   "metadata": {},
   "outputs": [],
   "source": []
  },
  {
   "cell_type": "code",
   "execution_count": null,
   "metadata": {},
   "outputs": [],
   "source": []
  }
 ],
 "metadata": {
  "kernelspec": {
   "display_name": "Python 3",
   "language": "python",
   "name": "python3"
  },
  "language_info": {
   "codemirror_mode": {
    "name": "ipython",
    "version": 3
   },
   "file_extension": ".py",
   "mimetype": "text/x-python",
   "name": "python",
   "nbconvert_exporter": "python",
   "pygments_lexer": "ipython3",
   "version": "3.7.3"
  }
 },
 "nbformat": 4,
 "nbformat_minor": 2
}
